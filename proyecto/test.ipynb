{
 "cells": [
  {
   "cell_type": "code",
   "execution_count": 1,
   "id": "8bddbcb6",
   "metadata": {},
   "outputs": [
    {
     "name": "stdout",
     "output_type": "stream",
     "text": [
      "\n",
      "image 1/1 /home/luis/Documents/UTEC/Computer_Vision/proyecto/data/basketball-court-keypoints1-1/test/images/faasdasd2_275_jpg.rf.7abe060a830772a86c63bfa41ce2a9a6.jpg: 384x640 1 court, 37.1ms\n",
      "Speed: 4.3ms preprocess, 37.1ms inference, 97.3ms postprocess per image at shape (1, 3, 384, 640)\n",
      "Results saved to \u001b[1m/home/luis/Documents/UTEC/Computer_Vision/runs/pose/predict2\u001b[0m\n",
      "tensor([[[0.0000, 0.0000],\n",
      "         [0.0000, 0.0000],\n",
      "         [0.0000, 0.0000],\n",
      "         [0.0000, 0.0000],\n",
      "         [0.0000, 0.0000],\n",
      "         [0.0000, 0.0000],\n",
      "         [0.5765, 0.3628],\n",
      "         [0.5972, 0.4148],\n",
      "         [0.2458, 0.5059],\n",
      "         [0.0000, 0.0000],\n",
      "         [0.0000, 0.0000],\n",
      "         [0.0000, 0.0000],\n",
      "         [0.0000, 0.0000],\n",
      "         [0.5805, 0.7194],\n",
      "         [0.4355, 0.4476],\n",
      "         [0.0000, 0.0000],\n",
      "         [0.0000, 0.0000],\n",
      "         [0.5302, 0.5565],\n",
      "         [0.4131, 0.7033],\n",
      "         [0.0000, 0.0000],\n",
      "         [0.0000, 0.0000],\n",
      "         [0.0000, 0.0000],\n",
      "         [0.0000, 0.0000],\n",
      "         [0.0000, 0.0000],\n",
      "         [0.4834, 0.5893],\n",
      "         [0.0000, 0.0000],\n",
      "         [0.0000, 0.0000],\n",
      "         [0.0000, 0.0000],\n",
      "         [0.3103, 0.5911],\n",
      "         [0.0000, 0.0000]]], device='cuda:0')\n"
     ]
    },
    {
     "name": "stderr",
     "output_type": "stream",
     "text": [
      "/snap/core20/current/lib/x86_64-linux-gnu/libstdc++.so.6: version `GLIBCXX_3.4.29' not found (required by /lib/x86_64-linux-gnu/libproxy.so.1)\n",
      "Failed to load module: /home/luis/snap/code/common/.cache/gio-modules/libgiolibproxy.so\n",
      "eog: symbol lookup error: /snap/core20/current/lib/x86_64-linux-gnu/libpthread.so.0: undefined symbol: __libc_pthread_init, version GLIBC_PRIVATE\n"
     ]
    }
   ],
   "source": [
    "from ultralytics import YOLO\n",
    "\n",
    "# Carga el modelo ya entrenado (puedes usar 'best.pt' o 'last.pt')\n",
    "model = YOLO('/home/luis/Documents/UTEC/Computer_Vision/runs/pose/train322/weights/best.pt')\n",
    "\n",
    "# Ejecuta la predicción sobre una imagen\n",
    "results = model.predict(source='./data/basketball-court-keypoints1-1/test/images/faasdasd2_275_jpg.rf.7abe060a830772a86c63bfa41ce2a9a6.jpg', task='pose', imgsz=640, save=True)\n",
    "\n",
    "for res in results:  # puede contener varios objetos, aunque en tu caso 1 corte = 1 objeto\n",
    "    kp = res.keypoints  # objeto Keypoints\n",
    "    coords = kp.xy         # coordenadas en píxeles (N_points × 2)\n",
    "    coords_norm = kp.xyn   # coordenadas normalizadas (0–1)\n",
    "    confs = kp.conf        # nivel de confianza por keypoint\n",
    "    print(coords_norm)\n",
    "    # Opcional: res.show() para visualizar en pantalla\n",
    "    res.show()"
   ]
  },
  {
   "cell_type": "code",
   "execution_count": 1,
   "id": "dcbc37ce",
   "metadata": {},
   "outputs": [
    {
     "name": "stdout",
     "output_type": "stream",
     "text": [
      "\n",
      "image 1/1 /home/luis/Documents/UTEC/Computer_Vision/proyecto/data/detect/Basketball-Player-Detection-1/train/images/Screenshot-2023-09-24-pm9-46-40_jpg.rf.a68052ac9947d70816726281a1e6ebf4.jpg: 384x640 1 court, 30.6ms\n",
      "Speed: 1.9ms preprocess, 30.6ms inference, 64.5ms postprocess per image at shape (1, 3, 384, 640)\n",
      "ultralytics.engine.results.Results object with attributes:\n",
      "\n",
      "boxes: ultralytics.engine.results.Boxes object\n",
      "keypoints: ultralytics.engine.results.Keypoints object\n",
      "masks: None\n",
      "names: {0: 'court'}\n",
      "obb: None\n",
      "orig_img: array([[[ 89, 154, 199],\n",
      "        [ 89, 154, 199],\n",
      "        [ 89, 154, 199],\n",
      "        ...,\n",
      "        [187, 182, 183],\n",
      "        [187, 182, 183],\n",
      "        [187, 182, 183]],\n",
      "\n",
      "       [[ 89, 154, 199],\n",
      "        [ 89, 154, 199],\n",
      "        [ 89, 154, 199],\n",
      "        ...,\n",
      "        [186, 181, 182],\n",
      "        [186, 181, 182],\n",
      "        [186, 181, 182]],\n",
      "\n",
      "       [[ 89, 154, 199],\n",
      "        [ 89, 154, 199],\n",
      "        [ 89, 154, 199],\n",
      "        ...,\n",
      "        [185, 180, 181],\n",
      "        [185, 180, 181],\n",
      "        [185, 180, 181]],\n",
      "\n",
      "       ...,\n",
      "\n",
      "       [[140, 185, 219],\n",
      "        [140, 185, 219],\n",
      "        [140, 185, 219],\n",
      "        ...,\n",
      "        [190, 214, 234],\n",
      "        [189, 213, 233],\n",
      "        [187, 211, 231]],\n",
      "\n",
      "       [[141, 186, 220],\n",
      "        [141, 186, 220],\n",
      "        [141, 186, 220],\n",
      "        ...,\n",
      "        [156, 180, 200],\n",
      "        [142, 166, 186],\n",
      "        [134, 158, 178]],\n",
      "\n",
      "       [[141, 186, 220],\n",
      "        [141, 186, 220],\n",
      "        [141, 186, 220],\n",
      "        ...,\n",
      "        [128, 152, 172],\n",
      "        [104, 128, 148],\n",
      "        [ 89, 113, 133]]], shape=(1800, 3200, 3), dtype=uint8)\n",
      "orig_shape: (1800, 3200)\n",
      "path: '/home/luis/Documents/UTEC/Computer_Vision/proyecto/data/detect/Basketball-Player-Detection-1/train/images/Screenshot-2023-09-24-pm9-46-40_jpg.rf.a68052ac9947d70816726281a1e6ebf4.jpg'\n",
      "probs: None\n",
      "save_dir: '/home/luis/Documents/UTEC/Computer_Vision/runs/pose/predict2'\n",
      "speed: {'preprocess': 1.9248779935878702, 'inference': 30.55177699570777, 'postprocess': 64.4645640059025}\n",
      "\n",
      "image 1/1 /home/luis/Documents/UTEC/Computer_Vision/proyecto/data/detect/Basketball-Player-Detection-1/train/images/Screenshot-2023-09-24-pm9-46-40_jpg.rf.a68052ac9947d70816726281a1e6ebf4.jpg: 384x640 1 Hoop, 1 Period, 8 Players, 2 Refs, 2 Team Pointss, 1 Time Remaining, 5.2ms\n",
      "Speed: 1.1ms preprocess, 5.2ms inference, 1.2ms postprocess per image at shape (1, 3, 384, 640)\n"
     ]
    },
    {
     "data": {
      "text/plain": [
       "True"
      ]
     },
     "execution_count": 1,
     "metadata": {},
     "output_type": "execute_result"
    }
   ],
   "source": [
    "from ultralytics import YOLO\n",
    "import cv2\n",
    "\n",
    "# 🚨 Carga ambos modelos ya entrenados\n",
    "court_model = YOLO(\"/home/luis/Documents/UTEC/Computer_Vision/runs/pose/train322/weights/best.pt\")\n",
    "people_model = YOLO(\"/home/luis/Documents/UTEC/Computer_Vision/runs/detect/train2/weights/best.pt\")\n",
    "\n",
    "# Ejecuta inferencia en la imagen\n",
    "img_path = \"./data/detect/Basketball-Player-Detection-1/train/images/Screenshot-2023-09-24-pm9-46-40_jpg.rf.a68052ac9947d70816726281a1e6ebf4.jpg\"\n",
    "base_img = cv2.imread(img_path)\n",
    "res_court = court_model.predict(source=img_path, task='pose', imgsz=640, save=False)[0]\n",
    "print(res_court)  # Imprime las coordenadas de los keypoints\n",
    "annotated = res_court.plot(img = base_img.copy())\n",
    "\n",
    "res_people = people_model.predict(source=img_path, task='detect', imgsz=640, save=False)[0]\n",
    "\n",
    "annotated = res_people.plot(img = annotated)\n",
    "\n",
    "cv2.imshow(\"Court + People\", annotated)\n",
    "cv2.waitKey(0)\n",
    "cv2.destroyAllWindows()\n",
    "cv2.imwrite(\"combinado.jpg\", annotated)  # Guardado opcional"
   ]
  }
 ],
 "metadata": {
  "kernelspec": {
   "display_name": "venv",
   "language": "python",
   "name": "python3"
  },
  "language_info": {
   "codemirror_mode": {
    "name": "ipython",
    "version": 3
   },
   "file_extension": ".py",
   "mimetype": "text/x-python",
   "name": "python",
   "nbconvert_exporter": "python",
   "pygments_lexer": "ipython3",
   "version": "3.10.12"
  }
 },
 "nbformat": 4,
 "nbformat_minor": 5
}
