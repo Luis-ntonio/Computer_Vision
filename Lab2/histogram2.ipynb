{
 "cells": [
  {
   "cell_type": "code",
   "execution_count": 1,
   "metadata": {},
   "outputs": [],
   "source": [
    "import requests\n",
    "from PIL import Image\n",
    "import numpy as np\n",
    "import seaborn as sns\n",
    "import matplotlib.pyplot as plt\n",
    "from io import BytesIO\n",
    "from ipywidgets import interact, FloatSlider "
   ]
  },
  {
   "cell_type": "code",
   "execution_count": 2,
   "metadata": {},
   "outputs": [],
   "source": [
    "def download_image(url):\n",
    "    response = requests.get(url)\n",
    "    response.raise_for_status()\n",
    "    return np.array(Image.open(BytesIO(response.content)))\n",
    "\n",
    "def adjust_brightness(image, brightness):\n",
    "    return np.clip(image * brightness, 0, 255).astype(np.uint8)\n",
    "\n",
    "def adjust_contrast(image, contrast):\n",
    "    mean = np.mean(image)\n",
    "    return np.clip((image - mean) * contrast + mean, 0, 255).astype(np.uint8)\n",
    "\n",
    "def display_image_and_histogram(image, brightness=1.0, contrast=1.0):\n",
    "    adjusted_image = adjust_brightness(image, brightness)\n",
    "    adjusted_image = adjust_contrast(adjusted_image, contrast)\n",
    "\n",
    "    fig, axes = plt.subplots(1, 2, figsize=(12, 5))\n",
    "    axes[0].imshow(adjusted_image)\n",
    "    axes[0].axis('off')\n",
    "    axes[0].set_title(\"Imagen Ajustada\")\n",
    "\n",
    "    grayscale_image = np.mean(adjusted_image, axis=2).astype(np.uint8) if adjusted_image.ndim == 3 else adjusted_image\n",
    "    sns.histplot(grayscale_image.flatten(), bins=256, kde=False, ax=axes[1], color=\"blue\")\n",
    "    axes[1].set_title(\"Histograma\")\n",
    "    axes[1].set_xlabel(\"Nivel de Intensidad\")\n",
    "    axes[1].set_ylabel(\"Frecuencia\")\n",
    "\n",
    "    plt.tight_layout()\n",
    "    plt.show()\n"
   ]
  },
  {
   "cell_type": "code",
   "execution_count": 3,
   "metadata": {},
   "outputs": [
    {
     "data": {
      "application/vnd.jupyter.widget-view+json": {
       "model_id": "90a49407776440a6a3a222a92087c1f8",
       "version_major": 2,
       "version_minor": 0
      },
      "text/plain": [
       "interactive(children=(FloatSlider(value=1.0, description='Brillo', max=3.0), FloatSlider(value=1.0, descriptio…"
      ]
     },
     "metadata": {},
     "output_type": "display_data"
    },
    {
     "data": {
      "text/plain": [
       "<function __main__.<lambda>(brightness, contrast)>"
      ]
     },
     "execution_count": 3,
     "metadata": {},
     "output_type": "execute_result"
    }
   ],
   "source": [
    "image = download_image('https://www.buenoyvegano.com/wp-content/uploads/2020/01/Gato-apropiado.jpg')\n",
    "interact(\n",
    "    lambda brightness, contrast: display_image_and_histogram(image, brightness, contrast),\n",
    "    brightness=FloatSlider(value=1.0, min=0.0, max=3.0, step=0.1, description='Brillo'),\n",
    "    contrast=FloatSlider(value=1.0, min=0.0, max=3.0, step=0.1, description='Contraste')\n",
    ")"
   ]
  }
 ],
 "metadata": {
  "kernelspec": {
   "display_name": "Python 3",
   "language": "python",
   "name": "python3"
  },
  "language_info": {
   "codemirror_mode": {
    "name": "ipython",
    "version": 3
   },
   "file_extension": ".py",
   "mimetype": "text/x-python",
   "name": "python",
   "nbconvert_exporter": "python",
   "pygments_lexer": "ipython3",
   "version": "3.10.12"
  }
 },
 "nbformat": 4,
 "nbformat_minor": 2
}
